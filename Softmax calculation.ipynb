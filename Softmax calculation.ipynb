{
 "cells": [
  {
   "cell_type": "markdown",
   "metadata": {},
   "source": [
    "Softmax calculation:\n",
    "\n",
    "![calculation](https://wikimedia.org/api/rest_v1/media/math/render/svg/e348290cf48ddbb6e9a6ef4e39363568b67c09d3 \"calc\")\n",
    "\n",
    "\n",
    "\n"
   ]
  },
  {
   "cell_type": "code",
   "execution_count": 1,
   "metadata": {},
   "outputs": [
    {
     "name": "stdout",
     "output_type": "stream",
     "text": [
      "[2.72, 0.14, 1.65]\n"
     ]
    }
   ],
   "source": [
    "import math\n",
    "z = [1.0, -2.0,0.5 ]\n",
    "z_exp = [math.exp(i) for i in z]\n",
    "print([round(i, 2) for i in z_exp])\n",
    "\n"
   ]
  },
  {
   "cell_type": "code",
   "execution_count": 2,
   "metadata": {},
   "outputs": [
    {
     "name": "stdout",
     "output_type": "stream",
     "text": [
      "4.5\n"
     ]
    }
   ],
   "source": [
    "sum_z_exp = sum(z_exp)\n",
    "print(round(sum_z_exp, 2))\n"
   ]
  },
  {
   "cell_type": "code",
   "execution_count": 3,
   "metadata": {},
   "outputs": [
    {
     "name": "stdout",
     "output_type": "stream",
     "text": [
      "[0.604, 0.03, 0.366]\n"
     ]
    }
   ],
   "source": [
    "softmax = [round(i / sum_z_exp, 3) for i in z_exp]\n",
    "print(softmax)"
   ]
  },
  {
   "cell_type": "code",
   "execution_count": 4,
   "metadata": {
    "collapsed": true
   },
   "outputs": [],
   "source": [
    "# gradient (2,4):\n",
    "# - no need to invert\n",
    "# - high number of features\n",
    "\n",
    "\n",
    "# Suppose you are solving a 5-class classification problem with 10 features. \n",
    "# How many parameters a linear model would have? \n",
    "# Don't forget bias terms! 50 / 55\n"
   ]
  }
 ],
 "metadata": {
  "kernelspec": {
   "display_name": "Python 3",
   "language": "python",
   "name": "python3"
  },
  "language_info": {
   "codemirror_mode": {
    "name": "ipython",
    "version": 3
   },
   "file_extension": ".py",
   "mimetype": "text/x-python",
   "name": "python",
   "nbconvert_exporter": "python",
   "pygments_lexer": "ipython3",
   "version": "3.5.4"
  }
 },
 "nbformat": 4,
 "nbformat_minor": 2
}
