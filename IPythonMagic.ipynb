{
 "cells": [
  {
   "cell_type": "markdown",
   "metadata": {},
   "source": [
    "# IPython Magic Commands"
   ]
  },
  {
   "cell_type": "markdown",
   "metadata": {},
   "source": [
    "IPython has a system of commands we call 'magics' that provide effectively a mini command language that is orthogonal to the syntax of Python and is extensible by the user with new commands. Magics are meant to be typed interactively, so they use command-line conventions, such as using whitespace for separating arguments, dashes for options and other conventions typical of a command-line environment.\n",
    "\n",
    "Magics come in two kinds:\n",
    "\n",
    "Line magics: these are commands prepended by one % character and whose arguments only extend to the end of the current line.\n",
    "\n",
    "Cell magics: these use two percent characters as a marker (%%), and they receive as argument both the current line where they are declared and the whole body of the cell."
   ]
  },
  {
   "cell_type": "code",
   "execution_count": 1,
   "metadata": {},
   "outputs": [],
   "source": [
    "# brings up a documentation pane with an overview of IPython's feature\n",
    "?"
   ]
  },
  {
   "cell_type": "code",
   "execution_count": 2,
   "metadata": {},
   "outputs": [],
   "source": [
    "# quick reference guide\n",
    "%quickref"
   ]
  },
  {
   "cell_type": "code",
   "execution_count": 3,
   "metadata": {},
   "outputs": [
    {
     "name": "stdout",
     "output_type": "stream",
     "text": [
      "PING www.google.com (209.85.202.104): 56 data bytes\n",
      "64 bytes from 209.85.202.104: icmp_seq=0 ttl=46 time=16.282 ms\n",
      "64 bytes from 209.85.202.104: icmp_seq=1 ttl=46 time=16.905 ms\n",
      "64 bytes from 209.85.202.104: icmp_seq=2 ttl=46 time=17.123 ms\n",
      "64 bytes from 209.85.202.104: icmp_seq=3 ttl=46 time=18.803 ms\n",
      "64 bytes from 209.85.202.104: icmp_seq=4 ttl=46 time=19.690 ms\n",
      "64 bytes from 209.85.202.104: icmp_seq=5 ttl=46 time=17.146 ms\n",
      "64 bytes from 209.85.202.104: icmp_seq=6 ttl=46 time=21.446 ms\n",
      "64 bytes from 209.85.202.104: icmp_seq=7 ttl=46 time=17.350 ms\n",
      "64 bytes from 209.85.202.104: icmp_seq=8 ttl=46 time=16.815 ms\n",
      "64 bytes from 209.85.202.104: icmp_seq=9 ttl=46 time=18.912 ms\n",
      "64 bytes from 209.85.202.104: icmp_seq=10 ttl=46 time=21.756 ms\n",
      "64 bytes from 209.85.202.104: icmp_seq=11 ttl=46 time=90.458 ms\n",
      "64 bytes from 209.85.202.104: icmp_seq=12 ttl=46 time=138.678 ms\n",
      "64 bytes from 209.85.202.104: icmp_seq=13 ttl=46 time=54.569 ms\n",
      "64 bytes from 209.85.202.104: icmp_seq=14 ttl=46 time=17.221 ms\n",
      "64 bytes from 209.85.202.104: icmp_seq=15 ttl=46 time=16.792 ms\n",
      "64 bytes from 209.85.202.104: icmp_seq=16 ttl=46 time=16.839 ms\n",
      "64 bytes from 209.85.202.104: icmp_seq=17 ttl=46 time=16.486 ms\n",
      "64 bytes from 209.85.202.104: icmp_seq=18 ttl=46 time=17.004 ms\n",
      "64 bytes from 209.85.202.104: icmp_seq=19 ttl=46 time=16.844 ms\n",
      "64 bytes from 209.85.202.104: icmp_seq=20 ttl=46 time=16.436 ms\n",
      "64 bytes from 209.85.202.104: icmp_seq=21 ttl=46 time=19.544 ms\n",
      "64 bytes from 209.85.202.104: icmp_seq=22 ttl=46 time=20.881 ms\n",
      "64 bytes from 209.85.202.104: icmp_seq=23 ttl=46 time=16.976 ms\n",
      "64 bytes from 209.85.202.104: icmp_seq=24 ttl=46 time=154.555 ms\n",
      "64 bytes from 209.85.202.104: icmp_seq=25 ttl=46 time=65.601 ms\n",
      "64 bytes from 209.85.202.104: icmp_seq=26 ttl=46 time=116.770 ms\n",
      "64 bytes from 209.85.202.104: icmp_seq=27 ttl=46 time=32.868 ms\n",
      "64 bytes from 209.85.202.104: icmp_seq=28 ttl=46 time=16.919 ms\n",
      "64 bytes from 209.85.202.104: icmp_seq=29 ttl=46 time=16.966 ms\n",
      "64 bytes from 209.85.202.104: icmp_seq=30 ttl=46 time=17.000 ms\n",
      "64 bytes from 209.85.202.104: icmp_seq=31 ttl=46 time=16.912 ms\n",
      "64 bytes from 209.85.202.104: icmp_seq=32 ttl=46 time=20.371 ms\n",
      "64 bytes from 209.85.202.104: icmp_seq=33 ttl=46 time=34.235 ms\n",
      "64 bytes from 209.85.202.104: icmp_seq=34 ttl=46 time=16.829 ms\n",
      "^C\n",
      "\n",
      "--- www.google.com ping statistics ---\n",
      "35 packets transmitted, 35 packets received, 0.0% packet loss\n",
      "round-trip min/avg/max/stddev = 16.282/33.428/154.555/35.474 ms\n"
     ]
    }
   ],
   "source": [
    "# use the ! operator to run system shell commands\n",
    "!ping www.google.com"
   ]
  },
  {
   "cell_type": "code",
   "execution_count": 4,
   "metadata": {},
   "outputs": [
    {
     "data": {
      "text/plain": [
       "Type help() for interactive help, or help(object) for help about object."
      ]
     },
     "execution_count": 4,
     "metadata": {},
     "output_type": "execute_result"
    }
   ],
   "source": [
    "# several ways to interactively access help documentation\n",
    "help"
   ]
  },
  {
   "cell_type": "code",
   "execution_count": 5,
   "metadata": {},
   "outputs": [],
   "source": [
    "# help module for magic commands\n",
    "%magic"
   ]
  },
  {
   "cell_type": "code",
   "execution_count": 6,
   "metadata": {},
   "outputs": [
    {
     "data": {
      "application/json": {
       "cell": {
        "!": "OSMagics",
        "HTML": "Other",
        "SVG": "Other",
        "bash": "Other",
        "capture": "ExecutionMagics",
        "debug": "ExecutionMagics",
        "file": "Other",
        "html": "DisplayMagics",
        "javascript": "DisplayMagics",
        "js": "DisplayMagics",
        "latex": "DisplayMagics",
        "markdown": "DisplayMagics",
        "perl": "Other",
        "prun": "ExecutionMagics",
        "pypy": "Other",
        "python": "Other",
        "python2": "Other",
        "python3": "Other",
        "ruby": "Other",
        "script": "ScriptMagics",
        "sh": "Other",
        "svg": "DisplayMagics",
        "sx": "OSMagics",
        "system": "OSMagics",
        "time": "ExecutionMagics",
        "timeit": "ExecutionMagics",
        "writefile": "OSMagics"
       },
       "line": {
        "alias": "OSMagics",
        "alias_magic": "BasicMagics",
        "autocall": "AutoMagics",
        "automagic": "AutoMagics",
        "autosave": "KernelMagics",
        "bookmark": "OSMagics",
        "cat": "Other",
        "cd": "OSMagics",
        "clear": "KernelMagics",
        "colors": "BasicMagics",
        "config": "ConfigMagics",
        "connect_info": "KernelMagics",
        "cp": "Other",
        "debug": "ExecutionMagics",
        "dhist": "OSMagics",
        "dirs": "OSMagics",
        "doctest_mode": "BasicMagics",
        "ed": "Other",
        "edit": "KernelMagics",
        "env": "OSMagics",
        "gui": "BasicMagics",
        "hist": "Other",
        "history": "HistoryMagics",
        "killbgscripts": "ScriptMagics",
        "ldir": "Other",
        "less": "KernelMagics",
        "lf": "Other",
        "lk": "Other",
        "ll": "Other",
        "load": "CodeMagics",
        "load_ext": "ExtensionMagics",
        "loadpy": "CodeMagics",
        "logoff": "LoggingMagics",
        "logon": "LoggingMagics",
        "logstart": "LoggingMagics",
        "logstate": "LoggingMagics",
        "logstop": "LoggingMagics",
        "ls": "Other",
        "lsmagic": "BasicMagics",
        "lx": "Other",
        "macro": "ExecutionMagics",
        "magic": "BasicMagics",
        "man": "KernelMagics",
        "matplotlib": "PylabMagics",
        "mkdir": "Other",
        "more": "KernelMagics",
        "mv": "Other",
        "notebook": "BasicMagics",
        "page": "BasicMagics",
        "pastebin": "CodeMagics",
        "pdb": "ExecutionMagics",
        "pdef": "NamespaceMagics",
        "pdoc": "NamespaceMagics",
        "pfile": "NamespaceMagics",
        "pinfo": "NamespaceMagics",
        "pinfo2": "NamespaceMagics",
        "pip": "BasicMagics",
        "popd": "OSMagics",
        "pprint": "BasicMagics",
        "precision": "BasicMagics",
        "profile": "BasicMagics",
        "prun": "ExecutionMagics",
        "psearch": "NamespaceMagics",
        "psource": "NamespaceMagics",
        "pushd": "OSMagics",
        "pwd": "OSMagics",
        "pycat": "OSMagics",
        "pylab": "PylabMagics",
        "qtconsole": "KernelMagics",
        "quickref": "BasicMagics",
        "recall": "HistoryMagics",
        "rehashx": "OSMagics",
        "reload_ext": "ExtensionMagics",
        "rep": "Other",
        "rerun": "HistoryMagics",
        "reset": "NamespaceMagics",
        "reset_selective": "NamespaceMagics",
        "rm": "Other",
        "rmdir": "Other",
        "run": "ExecutionMagics",
        "save": "CodeMagics",
        "sc": "OSMagics",
        "set_env": "OSMagics",
        "store": "StoreMagics",
        "sx": "OSMagics",
        "system": "OSMagics",
        "tb": "ExecutionMagics",
        "time": "ExecutionMagics",
        "timeit": "ExecutionMagics",
        "unalias": "OSMagics",
        "unload_ext": "ExtensionMagics",
        "who": "NamespaceMagics",
        "who_ls": "NamespaceMagics",
        "whos": "NamespaceMagics",
        "xdel": "NamespaceMagics",
        "xmode": "BasicMagics"
       }
      },
      "text/plain": [
       "Available line magics:\n",
       "%alias  %alias_magic  %autocall  %automagic  %autosave  %bookmark  %cat  %cd  %clear  %colors  %config  %connect_info  %cp  %debug  %dhist  %dirs  %doctest_mode  %ed  %edit  %env  %gui  %hist  %history  %killbgscripts  %ldir  %less  %lf  %lk  %ll  %load  %load_ext  %loadpy  %logoff  %logon  %logstart  %logstate  %logstop  %ls  %lsmagic  %lx  %macro  %magic  %man  %matplotlib  %mkdir  %more  %mv  %notebook  %page  %pastebin  %pdb  %pdef  %pdoc  %pfile  %pinfo  %pinfo2  %popd  %pprint  %precision  %profile  %prun  %psearch  %psource  %pushd  %pwd  %pycat  %pylab  %qtconsole  %quickref  %recall  %rehashx  %reload_ext  %rep  %rerun  %reset  %reset_selective  %rm  %rmdir  %run  %save  %sc  %set_env  %store  %sx  %system  %tb  %time  %timeit  %unalias  %unload_ext  %who  %who_ls  %whos  %xdel  %xmode\n",
       "\n",
       "Available cell magics:\n",
       "%%!  %%HTML  %%SVG  %%bash  %%capture  %%debug  %%file  %%html  %%javascript  %%js  %%latex  %%markdown  %%perl  %%prun  %%pypy  %%python  %%python2  %%python3  %%ruby  %%script  %%sh  %%svg  %%sx  %%system  %%time  %%timeit  %%writefile\n",
       "\n",
       "Automagic is ON, % prefix IS NOT needed for line magics."
      ]
     },
     "execution_count": 6,
     "metadata": {},
     "output_type": "execute_result"
    }
   ],
   "source": [
    "# list of all available magic commands\n",
    "%lsmagic"
   ]
  },
  {
   "cell_type": "code",
   "execution_count": 7,
   "metadata": {},
   "outputs": [],
   "source": [
    "# bring up the help module for a specific command\n",
    "%timeit?"
   ]
  },
  {
   "cell_type": "code",
   "execution_count": 8,
   "metadata": {},
   "outputs": [],
   "source": [
    "# the ? syntax also works for any generic object\n",
    "x = 5\n",
    "x?"
   ]
  },
  {
   "cell_type": "code",
   "execution_count": 9,
   "metadata": {},
   "outputs": [
    {
     "name": "stderr",
     "output_type": "stream",
     "text": [
      "ERROR:root:File `'scripts/hello.py'` not found.\n"
     ]
    }
   ],
   "source": [
    "# run a python script from within the notebook\n",
    "%run scripts/hello"
   ]
  },
  {
   "cell_type": "code",
   "execution_count": 10,
   "metadata": {},
   "outputs": [
    {
     "name": "stderr",
     "output_type": "stream",
     "text": [
      "ERROR:root:No traceback has been produced, nothing to debug.\n"
     ]
    }
   ],
   "source": [
    "# debug a statement either in-line or after the fact\n",
    "%debug"
   ]
  },
  {
   "cell_type": "code",
   "execution_count": 11,
   "metadata": {},
   "outputs": [
    {
     "name": "stdout",
     "output_type": "stream",
     "text": [
      "5.49 ms ± 908 µs per loop (mean ± std. dev. of 7 runs, 1 loop each)\n"
     ]
    }
   ],
   "source": [
    "# time the execution of a statement\n",
    "import numpy as np\n",
    "%timeit np.linalg.eigvals(np.random.rand(100,100))"
   ]
  },
  {
   "cell_type": "code",
   "execution_count": 12,
   "metadata": {},
   "outputs": [],
   "source": [
    "# additional magic can be loaded using load_ext\n",
    "%load_ext Cython"
   ]
  },
  {
   "cell_type": "code",
   "execution_count": 13,
   "metadata": {},
   "outputs": [
    {
     "name": "stderr",
     "output_type": "stream",
     "text": [
      "UsageError: Environment does not have key: SYSTEMROOT\n"
     ]
    }
   ],
   "source": [
    "# list all environment variables or specific variables\n",
    "%env SYSTEMROOT"
   ]
  },
  {
   "cell_type": "code",
   "execution_count": 14,
   "metadata": {},
   "outputs": [
    {
     "name": "stdout",
     "output_type": "stream",
     "text": [
      "# brings up a documentation pane with an overview of IPython's feature\n",
      "?\n",
      "# quick reference guide\n",
      "%quickref\n",
      "# use the ! operator to run system shell commands\n",
      "!ping www.google.com\n",
      "# several ways to interactively access help documentation\n",
      "help\n",
      "# help module for magic commands\n",
      "%magic\n",
      "# list of all available magic commands\n",
      "%lsmagic\n",
      "# bring up the help module for a specific command\n",
      "%timeit?\n",
      "# the ? syntax also works for any generic object\n",
      "x = 5\n",
      "x?\n",
      "# run a python script from within the notebook\n",
      "%run scripts/hello\n",
      "# debug a statement either in-line or after the fact\n",
      "%debug\n",
      "# time the execution of a statement\n",
      "import numpy as np\n",
      "%timeit np.linalg.eigvals(np.random.rand(100,100))\n",
      "# additional magic can be loaded using load_ext\n",
      "%load_ext Cython\n",
      "# list all environment variables or specific variables\n",
      "%env SYSTEMROOT\n",
      "# print the cache of previously executed commands\n",
      "%history\n"
     ]
    }
   ],
   "source": [
    "# print the cache of previously executed commands\n",
    "%history"
   ]
  },
  {
   "cell_type": "code",
   "execution_count": null,
   "metadata": {},
   "outputs": [],
   "source": []
  },
  {
   "cell_type": "code",
   "execution_count": 15,
   "metadata": {},
   "outputs": [],
   "source": [
    "# set matplotlib to inline or interactive (qt) mode\n",
    "%matplotlib inline"
   ]
  },
  {
   "cell_type": "code",
   "execution_count": 16,
   "metadata": {},
   "outputs": [
    {
     "name": "stdout",
     "output_type": "stream",
     "text": [
      "Object `urllib.urlopen` not found.\n"
     ]
    }
   ],
   "source": [
    "# print the call signature for any object\n",
    "import urllib\n",
    "%pdef urllib.urlopen"
   ]
  },
  {
   "cell_type": "code",
   "execution_count": 17,
   "metadata": {},
   "outputs": [
    {
     "name": "stdout",
     "output_type": "stream",
     "text": [
      "No documentation found for urllib\n"
     ]
    }
   ],
   "source": [
    "# print the docstring for a class/callable object\n",
    "%pdoc urllib"
   ]
  },
  {
   "cell_type": "code",
   "execution_count": 20,
   "metadata": {},
   "outputs": [
    {
     "name": "stdout",
     "output_type": "stream",
     "text": [
      "np\t urllib\t x\t \n"
     ]
    }
   ],
   "source": [
    "# print all interactive variables\n",
    "%who"
   ]
  },
  {
   "cell_type": "code",
   "execution_count": 21,
   "metadata": {},
   "outputs": [
    {
     "name": "stdout",
     "output_type": "stream",
     "text": [
      "Variable   Type      Data/Info\n",
      "------------------------------\n",
      "np         module    <module 'numpy' from '/op<...>kages/numpy/__init__.py'>\n",
      "urllib     module    <module 'urllib' from '/o<...>n3.5/urllib/__init__.py'>\n",
      "x          int       5\n"
     ]
    }
   ],
   "source": [
    "# same as who but more information\n",
    "%whos"
   ]
  },
  {
   "cell_type": "code",
   "execution_count": 22,
   "metadata": {},
   "outputs": [
    {
     "name": "stdout",
     "output_type": "stream",
     "text": [
      " "
     ]
    },
    {
     "data": {
      "image/png": "[encoded data removed]",
      "text/plain": [
       "<matplotlib.figure.Figure at 0x1180b0f28>"
      ]
     },
     "metadata": {},
     "output_type": "display_data"
    }
   ],
   "source": [
    "# example using cProfile\n",
    "import matplotlib.pyplot as plt\n",
    "\n",
    "def f(x):\n",
    "    return x**3 - 1\n",
    "\n",
    "def fprime(x):\n",
    "    return 3*x**2\n",
    "\n",
    "def newton(z, f, fprime, max_iter=100, tol=1e-6):\n",
    "    \"\"\"The Newton-Raphson method.\"\"\"\n",
    "    for i in range(max_iter):\n",
    "        step = f(z)/fprime(z)\n",
    "        if abs(step) < tol:\n",
    "            return i, z\n",
    "        z -= step\n",
    "    return i, z\n",
    "\n",
    "def plot_newton_iters(p, pprime, n=200, extent=[-1,1,-1,1], cmap='hsv'):\n",
    "    \"\"\"Shows how long it takes to converge to a root using the Newton-Raphson method.\"\"\"\n",
    "    m = np.zeros((n,n))\n",
    "    xmin, xmax, ymin, ymax = extent\n",
    "    for r, x in enumerate(np.linspace(xmin, xmax, n)):\n",
    "        for s, y in enumerate(np.linspace(ymin, ymax, n)):\n",
    "            z = x + y*1j\n",
    "            m[s, r] = newton(z, p, pprime)[0]\n",
    "    plt.imshow(m, cmap=cmap, extent=extent)\n",
    "\n",
    "stats = %prun -r -q plot_newton_iters(f, fprime)"
   ]
  },
  {
   "cell_type": "code",
   "execution_count": 23,
   "metadata": {},
   "outputs": [
    {
     "name": "stdout",
     "output_type": "stream",
     "text": [
      "         1065527 function calls (1064172 primitive calls) in 0.760 seconds\n",
      "\n",
      "   Ordered by: internal time\n",
      "   List reduced from 565 to 10 due to restriction <10>\n",
      "\n",
      "   ncalls  tottime  percall  cumtime  percall filename:lineno(function)\n",
      "    40000    0.227    0.000    0.552    0.000 <ipython-input-22-7c9252f37475>:10(newton)\n",
      "   324388    0.155    0.000    0.155    0.000 <ipython-input-22-7c9252f37475>:4(f)\n",
      "   324388    0.147    0.000    0.147    0.000 <ipython-input-22-7c9252f37475>:7(fprime)\n",
      "        1    0.138    0.138    0.760    0.760 <ipython-input-22-7c9252f37475>:19(plot_newton_iters)\n",
      "   324916    0.023    0.000    0.023    0.000 {built-in method builtins.abs}\n",
      "        1    0.004    0.004    0.010    0.010 machar.py:116(_do_init)\n",
      "     1981    0.004    0.000    0.004    0.000 {method 'reduce' of 'numpy.ufunc' objects}\n",
      "      122    0.004    0.000    0.004    0.000 {built-in method numpy.core.multiarray.dot}\n",
      "      201    0.003    0.000    0.006    0.000 function_base.py:25(linspace)\n",
      "     3280    0.003    0.000    0.003    0.000 {built-in method numpy.core.multiarray.array}\n",
      "\n",
      "\n"
     ]
    },
    {
     "data": {
      "text/plain": [
       "<pstats.Stats at 0x11813ca90>"
      ]
     },
     "execution_count": 23,
     "metadata": {},
     "output_type": "execute_result"
    }
   ],
   "source": [
    "stats.sort_stats('time').print_stats(10)"
   ]
  },
  {
   "cell_type": "code",
   "execution_count": 24,
   "metadata": {},
   "outputs": [
    {
     "name": "stdout",
     "output_type": "stream",
     "text": [
      "Once deleted, variables cannot be recovered. Proceed (y/[n])? y\n"
     ]
    }
   ],
   "source": [
    "# reset the namespace\n",
    "%reset"
   ]
  }
 ],
 "metadata": {
  "kernelspec": {
   "display_name": "Python 3",
   "language": "python",
   "name": "python3"
  },
  "language_info": {
   "codemirror_mode": {
    "name": "ipython",
    "version": 3
   },
   "file_extension": ".py",
   "mimetype": "text/x-python",
   "name": "python",
   "nbconvert_exporter": "python",
   "pygments_lexer": "ipython3",
   "version": "3.5.4"
  }
 },
 "nbformat": 4,
 "nbformat_minor": 1
}
